{
 "cells": [
  {
   "cell_type": "code",
   "execution_count": 1,
   "metadata": {},
   "outputs": [],
   "source": [
    "import numpy as np\n",
    "dataset_filename = 'affinity_dataset.txt'\n",
    "X = np.loadtxt(dataset_filename)"
   ]
  },
  {
   "cell_type": "code",
   "execution_count": 2,
   "metadata": {},
   "outputs": [],
   "source": [
    "n_samples, n_features = X.shape"
   ]
  },
  {
   "cell_type": "code",
   "execution_count": 3,
   "metadata": {},
   "outputs": [],
   "source": [
    "features = [\"bread\", \"milk\", \"cheese\", \"apples\", \"bananas\"]"
   ]
  },
  {
   "cell_type": "code",
   "execution_count": 4,
   "metadata": {},
   "outputs": [],
   "source": [
    "from collections import defaultdict\n",
    "valid_rules = defaultdict(int)\n",
    "invalid_rules = defaultdict(int)\n",
    "num_occurences = defaultdict(int)"
   ]
  },
  {
   "cell_type": "code",
   "execution_count": 5,
   "metadata": {},
   "outputs": [],
   "source": [
    "for sample in X:\n",
    "    for premise in range(n_features):\n",
    "        if sample[premise] == 0: continue\n",
    "        num_occurences[premise] += 1\n",
    "        for conclusion in range(n_features):\n",
    "            if premise == conclusion: continue\n",
    "            if sample[conclusion] == 1:\n",
    "                valid_rules[(premise, conclusion)] += 1"
   ]
  },
  {
   "cell_type": "code",
   "execution_count": 16,
   "metadata": {},
   "outputs": [],
   "source": [
    "support = valid_rules"
   ]
  },
  {
   "cell_type": "code",
   "execution_count": 17,
   "metadata": {},
   "outputs": [],
   "source": [
    "confidence = defaultdict(float)"
   ]
  },
  {
   "cell_type": "code",
   "execution_count": 18,
   "metadata": {},
   "outputs": [],
   "source": [
    "for premise, conclusion in valid_rules.keys():\n",
    "    rule = (premise, conclusion)\n",
    "    confidence[rule] = valid_rules[rule] / num_occurences[premise]"
   ]
  },
  {
   "cell_type": "code",
   "execution_count": 19,
   "metadata": {},
   "outputs": [
    {
     "name": "stdout",
     "output_type": "stream",
     "text": [
      "Rule: If a person buys bread they will also buy milk\n",
      " - Confidence: 0.929\n",
      " - Support: 26\n",
      "Rule: If a person buys milk they will also buy bread\n",
      " - Confidence: 0.500\n",
      " - Support: 26\n",
      "Rule: If a person buys cheese they will also buy bananas\n",
      " - Confidence: 1.026\n",
      " - Support: 40\n",
      "Rule: If a person buys bananas they will also buy cheese\n",
      " - Confidence: 0.702\n",
      " - Support: 40\n",
      "Rule: If a person buys cheese they will also buy apples\n",
      " - Confidence: 1.128\n",
      " - Support: 44\n",
      "Rule: If a person buys apples they will also buy cheese\n",
      " - Confidence: 1.023\n",
      " - Support: 44\n",
      "Rule: If a person buys apples they will also buy bananas\n",
      " - Confidence: 1.256\n",
      " - Support: 54\n",
      "Rule: If a person buys bananas they will also buy apples\n",
      " - Confidence: 0.947\n",
      " - Support: 54\n",
      "Rule: If a person buys milk they will also buy apples\n",
      " - Confidence: 0.692\n",
      " - Support: 36\n",
      "Rule: If a person buys apples they will also buy milk\n",
      " - Confidence: 0.837\n",
      " - Support: 36\n",
      "Rule: If a person buys milk they will also buy bananas\n",
      " - Confidence: 1.038\n",
      " - Support: 54\n",
      "Rule: If a person buys bananas they will also buy milk\n",
      " - Confidence: 0.947\n",
      " - Support: 54\n",
      "Rule: If a person buys bread they will also buy cheese\n",
      " - Confidence: 0.357\n",
      " - Support: 10\n",
      "Rule: If a person buys cheese they will also buy bread\n",
      " - Confidence: 0.256\n",
      " - Support: 10\n",
      "Rule: If a person buys bread they will also buy bananas\n",
      " - Confidence: 1.143\n",
      " - Support: 32\n",
      "Rule: If a person buys bananas they will also buy bread\n",
      " - Confidence: 0.561\n",
      " - Support: 32\n",
      "Rule: If a person buys milk they will also buy cheese\n",
      " - Confidence: 0.423\n",
      " - Support: 22\n",
      "Rule: If a person buys cheese they will also buy milk\n",
      " - Confidence: 0.564\n",
      " - Support: 22\n",
      "Rule: If a person buys bread they will also buy apples\n",
      " - Confidence: 0.643\n",
      " - Support: 18\n",
      "Rule: If a person buys apples they will also buy bread\n",
      " - Confidence: 0.419\n",
      " - Support: 18\n"
     ]
    }
   ],
   "source": [
    "for premise, conclusion in confidence:\n",
    "    premise_name = features[premise]\n",
    "    conclusion_name = features[conclusion]\n",
    "    print(\"Rule: If a person buys {0} they will also buy {1}\".\n",
    "          format(premise_name, conclusion_name))\n",
    "    print(\" - Confidence: {0:.3f}\".\n",
    "          format(confidence[(premise, conclusion)]))\n",
    "    print(\" - Support: {0}\".\n",
    "          format(support[(premise, conclusion)]))"
   ]
  }
 ],
 "metadata": {
  "kernelspec": {
   "display_name": "Python 3",
   "language": "python",
   "name": "python3"
  },
  "language_info": {
   "codemirror_mode": {
    "name": "ipython",
    "version": 3
   },
   "file_extension": ".py",
   "mimetype": "text/x-python",
   "name": "python",
   "nbconvert_exporter": "python",
   "pygments_lexer": "ipython3",
   "version": "3.7.1"
  }
 },
 "nbformat": 4,
 "nbformat_minor": 2
}
